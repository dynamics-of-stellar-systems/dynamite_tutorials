{
 "cells": [
  {
   "cell_type": "markdown",
   "metadata": {},
   "source": [
    "# Parameter Space"
   ]
  },
  {
   "cell_type": "markdown",
   "metadata": {},
   "source": [
    "To run a DYNAMITE model, one must specify a number of parameteters for the gravitational potential. The aim of this notebook is to demonstrate how to specify these parameters are specified, and to highlight featues that we have implemented in order to help you explore parameter space. \n",
    "\n",
    "We'll start as before by reading the same configuration file as previously,"
   ]
  },
  {
   "cell_type": "code",
   "execution_count": 1,
   "metadata": {},
   "outputs": [
    {
     "name": "stdout",
     "output_type": "stream",
     "text": [
      "No previous models have been found:\n",
      "Making an empty table in AllModels.table\n"
     ]
    }
   ],
   "source": [
    "import dynamite as dyn\n",
    "\n",
    "# read the config file\n",
    "fname = 'NGC6278_config.yaml'\n",
    "c = dyn.config_reader.Configuration(fname, silent=True)"
   ]
  },
  {
   "cell_type": "markdown",
   "metadata": {},
   "source": [
    "When the configuration object is created, internally, a parameter space object is created. This ``parspace`` object is a list, and every entry of this list is a parameter in our model,  Lets extract this and have a look"
   ]
  },
  {
   "cell_type": "code",
   "execution_count": 2,
   "metadata": {},
   "outputs": [
    {
     "name": "stdout",
     "output_type": "stream",
     "text": [
      "type of parspace is <class 'parameter_space.ParameterSpace'>\n",
      "length of parspace is 8\n",
      "the parameter names are:\n",
      "   - mass\n",
      "   - a\n",
      "   - dc\n",
      "   - f\n",
      "   - q\n",
      "   - p\n",
      "   - u\n",
      "   - ml\n"
     ]
    }
   ],
   "source": [
    "# extract the parameter space \n",
    "parspace = c.parspace\n",
    "print('type of parspace is', type(parspace))\n",
    "print('length of parspace is', len(parspace))\n",
    "print('the parameter names are:')\n",
    "for par in parspace:\n",
    "    print('   -', par.name)"
   ]
  },
  {
   "cell_type": "markdown",
   "metadata": {},
   "source": [
    "Several properties are specified for each parameter in the configuration file. Let's look at the value"
   ]
  },
  {
   "cell_type": "code",
   "execution_count": 3,
   "metadata": {},
   "outputs": [
    {
     "name": "stdout",
     "output_type": "stream",
     "text": [
      "Parameter / value :\n",
      "   mass = 6.0\n",
      "   a = 0.001\n",
      "   dc = 10.0\n",
      "   f = 1.0\n",
      "   q = 0.54\n",
      "   p = 0.99\n",
      "   u = 0.9999\n",
      "   ml = 4.0\n"
     ]
    }
   ],
   "source": [
    "print('Parameter / value :')\n",
    "for par in c.parspace:\n",
    "    print(f'   {par.name} = {par.value}')"
   ]
  },
  {
   "cell_type": "markdown",
   "metadata": {},
   "source": [
    "These are the starting values from which we would like to run a model.\n",
    "\n",
    "One complication in specifying these values is that, for some parameters, we would like to take logarithmically spaced steps through parameter space, i.e. the ones which are specificed as\n",
    "```\n",
    "parameters -> XXX -> logarithmic : True\n",
    "```\n",
    "Logarithmically spaced steps can be useful for exploring mass parameters. For other parameters (e.g. length scales) linearly spaced steps may be more appropriate. For other types of parameters (e.g. angles) a different spacing altogether may be preferable.\n",
    "\n",
    "To handle these possibilities, we introduce the concept of ``raw`` parameter values, distinct from the values themselves. All values associated with parameter in the configuration file are given in ``raw`` units. When we step through parameter space, we take linear steps in ``raw`` values. The conversion from raw values to the parameter values is handles by the method\n",
    "```\n",
    "Parameter.get_par_value_from_raw_value\n",
    "```\n",
    "So to convert the above list from raw values, we can do the following,"
   ]
  },
  {
   "cell_type": "code",
   "execution_count": 4,
   "metadata": {},
   "outputs": [
    {
     "name": "stdout",
     "output_type": "stream",
     "text": [
      "Parameter / value :\n",
      "   mass = 1000000.0\n",
      "   a = 0.001\n",
      "   dc = 10.0\n",
      "   f = 10.0\n",
      "   q = 0.54\n",
      "   p = 0.99\n",
      "   u = 0.9999\n",
      "   ml = 4.0\n"
     ]
    }
   ],
   "source": [
    "print('Parameter / value :')\n",
    "for par in c.parspace:\n",
    "    raw_value = par.value\n",
    "    par_value = par.get_par_value_from_raw_value(raw_value)\n",
    "    print(f'   {par.name} = {par_value}')"
   ]
  },
  {
   "cell_type": "markdown",
   "metadata": {},
   "source": [
    "Notice how only those parameters which have been specified with ``logarithmic : True`` have been modified.\n",
    "\n",
    "Another property that we specifie for each parameter is whether or not it is fixed, including a value and whether or not the parameter is fixed,"
   ]
  },
  {
   "cell_type": "code",
   "execution_count": 5,
   "metadata": {},
   "outputs": [
    {
     "name": "stdout",
     "output_type": "stream",
     "text": [
      "mass is fixed.\n",
      "a is fixed.\n",
      "dc is fixed.\n",
      "f is NOT fixed.\n",
      "q is fixed.\n",
      "p is fixed.\n",
      "u is fixed.\n",
      "ml is NOT fixed.\n"
     ]
    }
   ],
   "source": [
    "for par in parspace:\n",
    "    if par.fixed is True:\n",
    "        fix_string = ' is fixed.'\n",
    "    if par.fixed is False:\n",
    "        fix_string = ' is NOT fixed.'\n",
    "    print(f'{par.name}{fix_string}')"
   ]
  },
  {
   "cell_type": "markdown",
   "metadata": {},
   "source": [
    "The only parameters which are not fixed for this example are the dark matter fraction ``f`` and the mass-to-light ratio ``ml``. For these free parameters, additional properties about how search through parameter space are stored in the ``par_generator_settings`` attribute,"
   ]
  },
  {
   "cell_type": "code",
   "execution_count": 6,
   "metadata": {},
   "outputs": [
    {
     "name": "stdout",
     "output_type": "stream",
     "text": [
      "f takes step-size 0.5 and bounds ((0.0, 3.0))\n",
      "ml takes step-size 1.0 and bounds ((0.5, 5.0))\n"
     ]
    }
   ],
   "source": [
    "for par in parspace:\n",
    "    if par.fixed is False:\n",
    "        tmp = par.par_generator_settings\n",
    "        lo, hi, step = tmp['lo'], tmp['hi'], tmp['step']\n",
    "        print(f'{par.name} takes step-size {step} and bounds ({lo,hi})')"
   ]
  },
  {
   "cell_type": "markdown",
   "metadata": {},
   "source": [
    "How do we search over these free parameters? Running models (especially calcuating the orbit library) is expensive, so we will want to search through parameter space in the most efficient way possible.\n",
    "\n",
    "In general, an algorithm to search through parameter space will take as input\n",
    "1. the output of all models which have been run so far (e.g. chi-squared values)\n",
    "2. setting for the free parameters (e.g. step-size and bounds)\n",
    "The algorithm will then output a new list of parameters for which we want to run models.\n",
    "\n",
    "In DYNAMITE, we implement this generic idea in the class\n",
    "``dyn.parameter_sapce.ParameterGenerator``\n",
    "In the configuration file, you specify *which* parameter generator you would like to use, at the location\n",
    "```\n",
    "parameter_space_settings -> generator_type\n",
    "```\n",
    "The current choice is "
   ]
  },
  {
   "cell_type": "code",
   "execution_count": 7,
   "metadata": {},
   "outputs": [
    {
     "data": {
      "text/plain": [
       "'GridWalk'"
      ]
     },
     "execution_count": 7,
     "metadata": {},
     "output_type": "execute_result"
    }
   ],
   "source": [
    "c.settings.parameter_space_settings['generator_type']"
   ]
  },
  {
   "cell_type": "markdown",
   "metadata": {},
   "source": [
    "This parameter generator requires an additional setting which is set at,\n",
    "```\n",
    "parameter_space_settings -> generator_settings -> threshold_del_chi2\n",
    "```\n",
    "which is accessed in the following way,"
   ]
  },
  {
   "cell_type": "code",
   "execution_count": 8,
   "metadata": {},
   "outputs": [
    {
     "name": "stdout",
     "output_type": "stream",
     "text": [
      "threshold_del_chi2 = 0.5\n"
     ]
    }
   ],
   "source": [
    "threshold_del_chi2 = c.settings.parameter_space_settings['generator_settings']['threshold_del_chi2']\n",
    "print(f'threshold_del_chi2 = {threshold_del_chi2}')"
   ]
  },
  {
   "cell_type": "markdown",
   "metadata": {},
   "source": [
    "The algorithm implemented to generate parameters in ``LegacyGridSearch`` is the following,\n",
    "\n",
    "```\n",
    "iteration = 0\n",
    "if iteration == 0\n",
    "    all parameters take `value` specified in the config\n",
    "else:\n",
    "    1. find the model with the lowest chi-squared\n",
    "    2. find all models with chi-squared within threshold_del_chi2 of the lowest value\n",
    "    3. for all models satisfying that criteria:\n",
    "        - for all free parameters:\n",
    "            - generate a new parameter set +/-1 step-size from the current value\n",
    "    4. Remove any models with parameters outside specified bounds\n",
    "    5. iteration = iteration + 1\n",
    "    6. halve all parameter stepsizes, unless this causes them to go below their specified minstepsize\n",
    "stop if no new models are added, or any other stopping criteria are met    \n",
    "```\n",
    "\n",
    "For those of you who have used the previous version of the trixial Schwarzschild modelling code (aka ``schwpy``), this is the same algorithm which was implemented there.\n",
    "\n",
    "The last line of the algorithm mentions stopping criteria. Settings which control the stopping criteria are also speicified in the configuration file, under\n",
    "```\n",
    "parameter_space_settings -> stopping_criteria\n",
    "```\n",
    "The current settings are the following,"
   ]
  },
  {
   "cell_type": "code",
   "execution_count": 9,
   "metadata": {},
   "outputs": [
    {
     "name": "stdout",
     "output_type": "stream",
     "text": [
      "min_delta_chi2 = 0.5\n",
      "n_max_mods = 50\n",
      "n_max_iter = 10\n"
     ]
    }
   ],
   "source": [
    "stopping_criteria = c.settings.parameter_space_settings['stopping_criteria']\n",
    "for key in stopping_criteria:\n",
    "    print(f'{key} = {stopping_criteria[key]}')"
   ]
  },
  {
   "cell_type": "markdown",
   "metadata": {},
   "source": [
    "These settings are used to implement the following stopping criteria:\n",
    "\n",
    "- if no new model in the last iteration impoves the chi-squared by at least ``min_delta_chi2``, then stop\n",
    "- if we have already run ``n_max_mods`` models, then stop\n",
    "- if we have already run ``n_max_iter`` iterations, then stop\n",
    "\n",
    "Let's see parameter generation in action!\n",
    "\n",
    "Since running a real Schwarzschild model is slightly time-consuming, in order to see parameter generation in action, we can run a dummy model instead. To run a dummy model, we must define a dummy chi-squared. For a simple option, we can specify some ''true'' values, with the dummy chi-squared being the squared distance from these true values"
   ]
  },
  {
   "cell_type": "code",
   "execution_count": 10,
   "metadata": {},
   "outputs": [],
   "source": [
    "import numpy as np\n",
    "\n",
    "f_true = 1.7\n",
    "ml_true = 1.8\n",
    "def dummy_chi2_function(parset):\n",
    "    delta_log10_f = np.log10(parset['f']/f_true)\n",
    "    delta_ml = parset['ml'] - ml_true\n",
    "    dummy_chi2 = delta_log10_f**2. + delta_ml**2.\n",
    "    return dummy_chi2"
   ]
  },
  {
   "cell_type": "markdown",
   "metadata": {},
   "source": [
    "Next, create a model iterator object"
   ]
  },
  {
   "cell_type": "code",
   "execution_count": 11,
   "metadata": {},
   "outputs": [
    {
     "name": "stdout",
     "output_type": "stream",
     "text": [
      "GridWalk: \"iteration 0\"\n",
      "GridWalk added 1 new model(s) out of 1\n",
      "... running model 1 out of 1\n",
      "GridWalk: \"iteration 1\"\n",
      "GridWalk added 8 new model(s) out of 9\n",
      "... running model 1 out of 8\n",
      "... running model 2 out of 8\n",
      "... running model 3 out of 8\n",
      "... running model 4 out of 8\n",
      "... running model 5 out of 8\n",
      "... running model 6 out of 8\n",
      "... running model 7 out of 8\n",
      "... running model 8 out of 8\n",
      "GridWalk: \"iteration 2\"\n",
      "GridWalk added 5 new model(s) out of 9\n",
      "... running model 1 out of 5\n",
      "... running model 2 out of 5\n",
      "... running model 3 out of 5\n",
      "... running model 4 out of 5\n",
      "... running model 5 out of 5\n",
      "GridWalk: \"iteration 3\"\n",
      "GridWalk added 2 new model(s) out of 6\n",
      "... running model 1 out of 2\n",
      "... running model 2 out of 2\n",
      "GridWalk: \"iteration 4\"\n",
      "GridWalk added 0 new model(s) out of 6\n",
      "Stopping after iteration 5\n",
      "{'stop': True, 'n_new_models': 0, 'last_iter_added_no_new_models': True, 'n_max_mods_reached': False, 'n_max_iter_reached': False, 'min_delta_chi2_reached': True}\n"
     ]
    }
   ],
   "source": [
    "mod_iterator = dyn.model_iterator.ModelIterator(\n",
    "    system=c.system,\n",
    "    all_models=c.all_models,\n",
    "    settings=c.settings,\n",
    "    executor=c.executor,\n",
    "    do_dummy_run=True,\n",
    "    dummy_chi2_function=dummy_chi2_function)"
   ]
  },
  {
   "cell_type": "markdown",
   "metadata": {},
   "source": [
    "Let's make plots of the evaluated chi-squared values\n",
    "\n"
   ]
  },
  {
   "cell_type": "code",
   "execution_count": 12,
   "metadata": {},
   "outputs": [
    {
     "data": {
      "image/png": "[encoded data removed]",
      "text/plain": [
       "<Figure size 432x288 with 2 Axes>"
      ]
     },
     "metadata": {
      "needs_background": "light"
     },
     "output_type": "display_data"
    },
    {
     "data": {
      "image/png": "[encoded data removed]",
      "text/plain": [
       "<Figure size 432x288 with 2 Axes>"
      ]
     },
     "metadata": {
      "needs_background": "light"
     },
     "output_type": "display_data"
    },
    {
     "data": {
      "image/png": "[encoded data removed]",
      "text/plain": [
       "<Figure size 432x288 with 2 Axes>"
      ]
     },
     "metadata": {
      "needs_background": "light"
     },
     "output_type": "display_data"
    },
    {
     "data": {
      "image/png": "[encoded data removed]",
      "text/plain": [
       "<Figure size 432x288 with 2 Axes>"
      ]
     },
     "metadata": {
      "needs_background": "light"
     },
     "output_type": "display_data"
    }
   ],
   "source": [
    "import matplotlib.pyplot as plt\n",
    "\n",
    "# get a list of all the iterations which have been run\n",
    "iterations = np.unique(c.all_models.table['which_iter'])\n",
    "\n",
    "# get parameter limits specified in the config file\n",
    "f = c.parspace.get_parameter_from_name('f')\n",
    "f_lims = (10.**f.par_generator_settings['lo'], 10.**f.par_generator_settings['hi'])\n",
    "ml = c.parspace.get_parameter_from_name('ml')\n",
    "ml_lims = (ml.par_generator_settings['lo'], ml.par_generator_settings['hi'])\n",
    "\n",
    "# plot the models: f vs ml at each iteration:\n",
    "for iter0 in iterations:\n",
    "    table = c.all_models.table\n",
    "    table = table[table['which_iter']==iter0]\n",
    "    plt.scatter(table['f'],\n",
    "                table['ml'],\n",
    "                c=table['chi2'],\n",
    "                cmap=plt.cm.viridis_r,\n",
    "                s=200)\n",
    "    plt.plot(f_true, ml_true, 'xr', label='Truth')\n",
    "    plt.gca().legend()\n",
    "    cbar = plt.colorbar()\n",
    "    cbar.set_label('chi-squared')\n",
    "    plt.gca().set_title(f'iteration {iter0}')\n",
    "    plt.gca().set_xlim(*f_lims)\n",
    "    plt.gca().set_ylim(*ml_lims)\n",
    "    plt.gca().set_xlabel('dark matter fraction f')\n",
    "    plt.gca().set_ylabel('mass-to-light ml')\n",
    "    plt.gca().set_xscale('log')\n",
    "    plt.show()"
   ]
  },
  {
   "cell_type": "markdown",
   "metadata": {},
   "source": [
    "We see the parameters that we generate at each step closing in on the true values. Later iterations take smaller step-sizes compared to earlier iterations."
   ]
  },
  {
   "cell_type": "markdown",
   "metadata": {},
   "source": [
    "**Exercise** : change the parameter generator type specified in the configuration file from ``LegacyGridSearch`` to ``GridWalk`` and re-run this notebook. How do the results change?\n",
    "\n",
    "``GridWalk`` is a simpler parameter generation algorithm than the one we just seen. Rather than searching through all models within some tolerable chi-squared threshold, it simply walks directly in the direction in which the chi-squared value is decreasing. Step-sizes are not varied throughout any iterations.\n",
    "\n",
    "Both ``LegacyGridSearch`` and ``GridWalk`` suffer from two crucial drawbacks:\n",
    "\n",
    "- they are liable to fall into local minima\n",
    "- they scale badly with the number of free parameters\n",
    "\n",
    "We want to implement more efficient algorithms. One specific idea we have it to use Gaussian Process Emulators here. See [this paper](https://ui.adsabs.harvard.edu/abs/2019MNRAS.485.4878G/abstract) for an example."
   ]
  },
  {
   "cell_type": "code",
   "execution_count": null,
   "metadata": {},
   "outputs": [],
   "source": []
  }
 ],
 "metadata": {
  "kernelspec": {
   "display_name": "Python 3",
   "language": "python",
   "name": "python3"
  },
  "language_info": {
   "codemirror_mode": {
    "name": "ipython",
    "version": 3
   },
   "file_extension": ".py",
   "mimetype": "text/x-python",
   "name": "python",
   "nbconvert_exporter": "python",
   "pygments_lexer": "ipython3",
   "version": "3.6.11"
  }
 },
 "nbformat": 4,
 "nbformat_minor": 4
}
